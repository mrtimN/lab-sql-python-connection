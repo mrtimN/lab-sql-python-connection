{
 "cells": [
  {
   "cell_type": "code",
   "execution_count": null,
   "id": "76729626-1504-441a-afb9-d7bc0c0c128a",
   "metadata": {},
   "outputs": [],
   "source": [
    "import pandas as pd\n",
    "import numpy as np\n",
    "import pymysql\n",
    "from sqlalchemy import create_engine\n",
    "from sqlalchemy import text\n",
    "import getpass  # To get the password without showing the input\n",
    "password = getpass.getpass()"
   ]
  },
  {
   "cell_type": "code",
   "execution_count": null,
   "id": "fd2b7f9a-b8c2-42b5-b491-557fbca9262a",
   "metadata": {},
   "outputs": [],
   "source": [
    "sd = \"sakila\"\n",
    "connection_string = 'mysql+pymysql://root:' + password + '@localhost/'+sd\n",
    "engine = create_engine(connection_string)\n",
    "engine"
   ]
  },
  {
   "cell_type": "code",
   "execution_count": null,
   "id": "04575801-c3eb-474c-bf57-948111787396",
   "metadata": {},
   "outputs": [],
   "source": [
    "def rentals_month(engine, month=5, year=2005):\n",
    "    with engine.connect() as connection:\n",
    "        txt = f'''select *\n",
    "                    from rental\n",
    "                    where month(rental_date)=\"{month:02d}%\" and year(rental_date)=\"{year}\";'''\n",
    "        query = text(txt)\n",
    "        result = connection.execute(query)\n",
    "    return pd.DataFrame(result.all())"
   ]
  },
  {
   "cell_type": "code",
   "execution_count": null,
   "id": "34e6dd20-33b1-4b9a-9a9b-474f132e867e",
   "metadata": {},
   "outputs": [],
   "source": [
    "rentals_month(engine, 5, 2005)"
   ]
  },
  {
   "cell_type": "code",
   "execution_count": null,
   "id": "1537bca7-5354-4896-a60d-1b979d115b33",
   "metadata": {},
   "outputs": [],
   "source": [
    "def rental_count_month(df_base, month=5, year=2005):\n",
    "    column_name = f'rentals_{month:02d}_{year}'\n",
    "    df_new = df_base.groupby(['customer_id']).size().reset_index(name=column_name)\n",
    "    return df_new"
   ]
  },
  {
   "cell_type": "code",
   "execution_count": null,
   "id": "aa21195c-7c81-444c-a1a0-03ef50dc67b4",
   "metadata": {},
   "outputs": [],
   "source": [
    "rental_count_month(rentals_month(engine, 5, 2005), 5, 2005)"
   ]
  },
  {
   "cell_type": "code",
   "execution_count": null,
   "id": "501ce6bf-8312-4d51-8300-29ec2f6029ca",
   "metadata": {},
   "outputs": [],
   "source": [
    "def compare_rentals(df1, df2):\n",
    "    df_compared = df1.merge(df2, on='customer_id', how='inner', suffixes=('_df1', '_df2'))\n",
    "    df_compared['difference'] = df_compared.iloc[:, 1] - df_compared.iloc[:, 2]\n",
    "    return df_compared"
   ]
  },
  {
   "cell_type": "code",
   "execution_count": null,
   "id": "186934ef-7559-4ef3-b3f4-cd54d4f4abdd",
   "metadata": {},
   "outputs": [],
   "source": [
    "compare_rentals(rental_count_month(rentals_month(engine, 5, 2005), 5, 2005), rental_count_month(rentals_month(engine, 6, 2005), 6, 2005))"
   ]
  }
 ],
 "metadata": {
  "kernelspec": {
   "display_name": "Python [conda env:base] *",
   "language": "python",
   "name": "conda-base-py"
  },
  "language_info": {
   "codemirror_mode": {
    "name": "ipython",
    "version": 3
   },
   "file_extension": ".py",
   "mimetype": "text/x-python",
   "name": "python",
   "nbconvert_exporter": "python",
   "pygments_lexer": "ipython3",
   "version": "3.12.7"
  }
 },
 "nbformat": 4,
 "nbformat_minor": 5
}
